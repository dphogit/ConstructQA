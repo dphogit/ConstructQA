{
 "cells": [
  {
   "cell_type": "markdown",
   "source": [
    "# Fire Clauses\n",
    "\n",
    "This notebook processes the fire clauses into `fire-clauses.json` file and loads it into the vector database."
   ],
   "metadata": {
    "collapsed": false
   }
  },
  {
   "cell_type": "markdown",
   "source": [
    "## Creating the embeddings"
   ],
   "metadata": {
    "collapsed": false
   }
  },
  {
   "cell_type": "code",
   "execution_count": 93,
   "outputs": [],
   "source": [
    "from sentence_transformers import SentenceTransformer\n",
    "import numpy as np\n",
    "import pandas as pd"
   ],
   "metadata": {
    "collapsed": false,
    "ExecuteTime": {
     "end_time": "2023-06-14T23:27:47.797652900Z",
     "start_time": "2023-06-14T23:27:47.707475900Z"
    }
   }
  },
  {
   "cell_type": "code",
   "execution_count": 94,
   "outputs": [
    {
     "data": {
      "text/plain": "                                                                                              content  \\\nclause                                                                                                  \nC1—Objectives of clauses C2 to C6 (protection f...  The objectives of clauses C2 to C6 are to: (a)...   \nC2.1                                                Fixed appliances using controlled combustion a...   \nC2.2                                                The maximum surface temperature of combustible...   \nC2.3                                                Fixed appliances using controlled combustion a...   \nC3.1                                                Buildings must be designed and constructed so ...   \nC3.2                                                Buildings with a building height greater than ...   \nC3.3                                                Buildings must be designed and constructed so ...   \nC3.5                                                Buildings must be designed and constructed so ...   \nC3.6                                                Buildings must be designed and constructed so ...   \nC3.7                                                External walls of buildings that are located c...   \n\n                                                                                   limitOnApplication  \nclause                                                                                                 \nC1—Objectives of clauses C2 to C6 (protection f...                                                     \nC2.1                                                                                                   \nC2.2                                                                                                   \nC2.3                                                                                                   \nC3.1                                                                                                   \nC3.2                                                Clause C3.2 does not apply to importance level...  \nC3.3                                                                                                   \nC3.5                                                                                                   \nC3.6                                                                                                   \nC3.7                                                                                                   ",
      "text/html": "<div>\n<style scoped>\n    .dataframe tbody tr th:only-of-type {\n        vertical-align: middle;\n    }\n\n    .dataframe tbody tr th {\n        vertical-align: top;\n    }\n\n    .dataframe thead th {\n        text-align: right;\n    }\n</style>\n<table border=\"1\" class=\"dataframe\">\n  <thead>\n    <tr style=\"text-align: right;\">\n      <th></th>\n      <th>content</th>\n      <th>limitOnApplication</th>\n    </tr>\n    <tr>\n      <th>clause</th>\n      <th></th>\n      <th></th>\n    </tr>\n  </thead>\n  <tbody>\n    <tr>\n      <th>C1—Objectives of clauses C2 to C6 (protection from fire)</th>\n      <td>The objectives of clauses C2 to C6 are to: (a)...</td>\n      <td></td>\n    </tr>\n    <tr>\n      <th>C2.1</th>\n      <td>Fixed appliances using controlled combustion a...</td>\n      <td></td>\n    </tr>\n    <tr>\n      <th>C2.2</th>\n      <td>The maximum surface temperature of combustible...</td>\n      <td></td>\n    </tr>\n    <tr>\n      <th>C2.3</th>\n      <td>Fixed appliances using controlled combustion a...</td>\n      <td></td>\n    </tr>\n    <tr>\n      <th>C3.1</th>\n      <td>Buildings must be designed and constructed so ...</td>\n      <td></td>\n    </tr>\n    <tr>\n      <th>C3.2</th>\n      <td>Buildings with a building height greater than ...</td>\n      <td>Clause C3.2 does not apply to importance level...</td>\n    </tr>\n    <tr>\n      <th>C3.3</th>\n      <td>Buildings must be designed and constructed so ...</td>\n      <td></td>\n    </tr>\n    <tr>\n      <th>C3.5</th>\n      <td>Buildings must be designed and constructed so ...</td>\n      <td></td>\n    </tr>\n    <tr>\n      <th>C3.6</th>\n      <td>Buildings must be designed and constructed so ...</td>\n      <td></td>\n    </tr>\n    <tr>\n      <th>C3.7</th>\n      <td>External walls of buildings that are located c...</td>\n      <td></td>\n    </tr>\n  </tbody>\n</table>\n</div>"
     },
     "execution_count": 94,
     "metadata": {},
     "output_type": "execute_result"
    }
   ],
   "source": [
    "# Read the fire clauses into a dataframe\n",
    "df = pd.read_json('../data/fire-clauses.json')\n",
    "\n",
    "# Because the clause is unique, we can use it as the index\n",
    "# Handle limitOnApplication NaNs by replacing with empty string\n",
    "df.set_index('clause', inplace=True)\n",
    "df['limitOnApplication'].fillna('', inplace=True)\n",
    "\n",
    "# First 10 clauses\n",
    "df.head(10)"
   ],
   "metadata": {
    "collapsed": false,
    "ExecuteTime": {
     "end_time": "2023-06-14T23:27:47.798656300Z",
     "start_time": "2023-06-14T23:27:47.730171Z"
    }
   }
  },
  {
   "cell_type": "code",
   "execution_count": 95,
   "outputs": [],
   "source": [
    "# Load in the sentence transformer model - have a look and the comparisons here:\n",
    "# https://www.sbert.net/docs/pretrained_models.html#sentence-embedding-models/\n",
    "# multi-qa-MiniLM-L6-cos-v1 is trained for QA and is smaller with very minor loss in performance\n",
    "\n",
    "model = SentenceTransformer('multi-qa-MiniLM-L6-cos-v1')"
   ],
   "metadata": {
    "collapsed": false,
    "ExecuteTime": {
     "end_time": "2023-06-14T23:27:48.177650100Z",
     "start_time": "2023-06-14T23:27:47.760656Z"
    }
   }
  },
  {
   "cell_type": "code",
   "execution_count": 96,
   "outputs": [
    {
     "data": {
      "text/plain": "Batches:   0%|          | 0/1 [00:00<?, ?it/s]",
      "application/vnd.jupyter.widget-view+json": {
       "version_major": 2,
       "version_minor": 0,
       "model_id": "e424889a990840beb0c56236025b9861"
      }
     },
     "metadata": {},
     "output_type": "display_data"
    },
    {
     "data": {
      "text/plain": "(12, 384)"
     },
     "execution_count": 96,
     "metadata": {},
     "output_type": "execute_result"
    }
   ],
   "source": [
    "# Encode the clause contents to create sentence vector embeddings (combine `content` and `limitOnApplication`)\n",
    "\n",
    "sentences = (df['content'] + ' ' + df['limitOnApplication']).tolist()\n",
    "vectors = model.encode(sentences, show_progress_bar=True)\n",
    "\n",
    "# Expect a mxn matrix where m is the number of clauses and n is the embedding dimension of the model\n",
    "vectors.shape"
   ],
   "metadata": {
    "collapsed": false,
    "ExecuteTime": {
     "end_time": "2023-06-14T23:27:48.921651400Z",
     "start_time": "2023-06-14T23:27:48.078654900Z"
    }
   }
  },
  {
   "cell_type": "markdown",
   "source": [
    "## Manual Test Query\n",
    "\n",
    "Make sure that our vectors have been converted expectedly where we manually search for a clause and find the closest match (we don't use Qdrant here yet)"
   ],
   "metadata": {
    "collapsed": false
   }
  },
  {
   "cell_type": "code",
   "execution_count": 97,
   "outputs": [],
   "source": [
    "from sentence_transformers import util"
   ],
   "metadata": {
    "collapsed": false,
    "ExecuteTime": {
     "end_time": "2023-06-14T23:27:48.936653100Z",
     "start_time": "2023-06-14T23:27:48.925654Z"
    }
   }
  },
  {
   "cell_type": "code",
   "execution_count": 98,
   "outputs": [
    {
     "name": "stdout",
     "output_type": "stream",
     "text": [
      "Question: How high must the smoke be above the floor when firefighters put out a fire with water?\n",
      "\n",
      "Expected context: Firecells located within 15 m of a relevant boundary that are not protected by an automatic fire sprinkler system, and that contain a fire load greater than 20 TJ or that have a floor area greater than 5,000 m2  must be designed and constructed so that at the time that firefighters first apply water to the fire, the maximum radiation flux at 1.5 m above the floor is no greater than 4.5 kW/m2 and the smoke layer is not less than 2 m above the floor.\n"
     ]
    }
   ],
   "source": [
    "# Target clause C3.8\n",
    "question = 'How high must the smoke be above the floor when firefighters put out a fire with water?'\n",
    "context = df[df.index == 'C3.8']['content'].values[0]\n",
    "\n",
    "print(f'Question: {question}')\n",
    "print()\n",
    "print(f'Expected context: {context}')"
   ],
   "metadata": {
    "collapsed": false,
    "ExecuteTime": {
     "end_time": "2023-06-14T23:27:48.995652400Z",
     "start_time": "2023-06-14T23:27:48.938657100Z"
    }
   }
  },
  {
   "cell_type": "code",
   "execution_count": 99,
   "outputs": [
    {
     "data": {
      "text/plain": "(384,)"
     },
     "execution_count": 99,
     "metadata": {},
     "output_type": "execute_result"
    }
   ],
   "source": [
    "# Encode the question\n",
    "question_vector = model.encode(question)\n",
    "question_vector.shape"
   ],
   "metadata": {
    "collapsed": false,
    "ExecuteTime": {
     "end_time": "2023-06-14T23:27:48.996651100Z",
     "start_time": "2023-06-14T23:27:48.952652900Z"
    }
   }
  },
  {
   "cell_type": "code",
   "execution_count": 100,
   "outputs": [
    {
     "data": {
      "text/plain": "                                                  content\nclause                                                   \nC3.8    Firecells located within 15 m of a relevant bo...\nC3.5    Buildings must be designed and constructed so ...\nC3.1    Buildings must be designed and constructed so ...",
      "text/html": "<div>\n<style scoped>\n    .dataframe tbody tr th:only-of-type {\n        vertical-align: middle;\n    }\n\n    .dataframe tbody tr th {\n        vertical-align: top;\n    }\n\n    .dataframe thead th {\n        text-align: right;\n    }\n</style>\n<table border=\"1\" class=\"dataframe\">\n  <thead>\n    <tr style=\"text-align: right;\">\n      <th></th>\n      <th>content</th>\n    </tr>\n    <tr>\n      <th>clause</th>\n      <th></th>\n    </tr>\n  </thead>\n  <tbody>\n    <tr>\n      <th>C3.8</th>\n      <td>Firecells located within 15 m of a relevant bo...</td>\n    </tr>\n    <tr>\n      <th>C3.5</th>\n      <td>Buildings must be designed and constructed so ...</td>\n    </tr>\n    <tr>\n      <th>C3.1</th>\n      <td>Buildings must be designed and constructed so ...</td>\n    </tr>\n  </tbody>\n</table>\n</div>"
     },
     "execution_count": 100,
     "metadata": {},
     "output_type": "execute_result"
    }
   ],
   "source": [
    "# Look for the top 3 closest matches - we use cosine similarity and gain all the scores in asc order.\n",
    "# With the sorted scores we get the last 3 (top 3) and then flip for descending order.\n",
    "# We then obtain from the data frame the clauses that match the top 3 scores\n",
    "\n",
    "scores = util.cos_sim(np.array([question_vector]), vectors)[0]\n",
    "top_score_ids = np.argsort(scores)[-3:].flip(0)\n",
    "df.iloc[top_score_ids][['content']]"
   ],
   "metadata": {
    "collapsed": false,
    "ExecuteTime": {
     "end_time": "2023-06-14T23:27:49.026657800Z",
     "start_time": "2023-06-14T23:27:48.988651900Z"
    }
   }
  },
  {
   "cell_type": "markdown",
   "source": [
    "As we can see clause C3.8 was the top match."
   ],
   "metadata": {
    "collapsed": false
   }
  }
 ],
 "metadata": {
  "kernelspec": {
   "display_name": "Python 3",
   "language": "python",
   "name": "python3"
  },
  "language_info": {
   "codemirror_mode": {
    "name": "ipython",
    "version": 2
   },
   "file_extension": ".py",
   "mimetype": "text/x-python",
   "name": "python",
   "nbconvert_exporter": "python",
   "pygments_lexer": "ipython2",
   "version": "2.7.6"
  }
 },
 "nbformat": 4,
 "nbformat_minor": 0
}
