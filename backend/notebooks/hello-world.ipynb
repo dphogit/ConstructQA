{
 "cells": [
  {
   "cell_type": "markdown",
   "id": "b0128d1e",
   "metadata": {},
   "source": [
    "# Hello Jupyter Notebooks!\n",
    "\n",
    "Run the code cell below."
   ]
  },
  {
   "cell_type": "code",
   "execution_count": 1,
   "outputs": [
    {
     "name": "stdout",
     "output_type": "stream",
     "text": [
      "Hello Jupyter Notebooks!\n"
     ]
    }
   ],
   "source": [
    "print(\"Hello Jupyter Notebooks!\")"
   ],
   "metadata": {
    "collapsed": false,
    "ExecuteTime": {
     "end_time": "2023-06-14T10:39:16.591420100Z",
     "start_time": "2023-06-14T10:39:16.567427100Z"
    }
   }
  }
 ],
 "metadata": {
  "kernelspec": {
   "display_name": "Python 3 (ipykernel)",
   "language": "python",
   "name": "python3"
  },
  "language_info": {
   "codemirror_mode": {
    "name": "ipython",
    "version": 3
   },
   "file_extension": ".py",
   "mimetype": "text/x-python",
   "name": "python",
   "nbconvert_exporter": "python",
   "pygments_lexer": "ipython3",
   "version": "3.9.1"
  }
 },
 "nbformat": 4,
 "nbformat_minor": 5
}
